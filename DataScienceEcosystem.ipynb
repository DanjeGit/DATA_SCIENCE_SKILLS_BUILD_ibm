{
 "cells": [
  {
   "cell_type": "markdown",
   "id": "18d7eb39-841f-4b63-9fa9-178ce0eecefe",
   "metadata": {},
   "source": [
    "# H1 Data Science Tools and Ecosystem"
   ]
  },
  {
   "cell_type": "markdown",
   "id": "389f7c07-856f-4576-ab2a-10d391f8fa7a",
   "metadata": {},
   "source": [
    "In this notebook, Data Science Tools and Ecosystem are summarized.\n",
    "All available tools For data science has been explained and practical labs also have been offered to practice some of the tools .\n",
    "From Data Management tools to Code Asset Management tools all have been explained and also provision of the hands on lab to familiarize oneself with these tools"
   ]
  },
  {
   "cell_type": "markdown",
   "id": "6ddd0386-7385-46b5-b2c3-179cc9908091",
   "metadata": {},
   "source": [
    "___Some obejectives covevered in this notebook include:___\n",
    "+ Listing data science programming languages\n",
    "+ Naming data science libraries\n",
    "+ Explaining how arithmetic expressions can be performed in Python\n",
    "+ Creating a table in markdown\n",
    "+ Wrirting a conversion code in python"
   ]
  },
  {
   "cell_type": "markdown",
   "id": "ee908201-e2a4-4ea6-9efd-e1f047029071",
   "metadata": {},
   "source": [
    "Some of the Data science Languages that we have include:\n",
    "1. Python\n",
    "2. Scala\n",
    "3. R\n",
    "4. C++\n",
    "5. SQL\n",
    "6. Ruby\n",
    "7. php"
   ]
  },
  {
   "cell_type": "markdown",
   "id": "36933740-b482-4470-ae71-3a7154608d0a",
   "metadata": {},
   "source": [
    "Many data scientists use the following librarie:\n",
    "- pandas\n",
    "- Scikit Learn\n",
    "- Numpy\n",
    "- MatPlotlib\n",
    "- Scikit learn\n",
    "- keras\n",
    "- Tensorflow\n",
    " ### Commonly used libraries in data science are:\n",
    " 1. Matplotlib\n",
    " 2. Pandas\n",
    " 3. Numpy"
   ]
  },
  {
   "cell_type": "markdown",
   "id": "3a9040d2-7ac7-48fc-9dd3-6e75c888b367",
   "metadata": {},
   "source": [
    "#Making a table\n",
    " |Data Science Tools|\n",
    " |------------------|\n",
    " | Vscode|\n",
    " | jupyter book|\n",
    " | Rstudio |"
   ]
  },
  {
   "cell_type": "markdown",
   "id": "fecf16a5-4461-48dc-a0f3-4ae497955160",
   "metadata": {},
   "source": [
    "### How to solve Arithmetic expressions in Python\n",
    " "
   ]
  },
  {
   "cell_type": "code",
   "execution_count": 1,
   "id": "72945fd9-6409-49e9-906b-b410aa5b4599",
   "metadata": {
    "tags": []
   },
   "outputs": [
    {
     "data": {
      "text/plain": [
       "17"
      ]
     },
     "execution_count": 1,
     "metadata": {},
     "output_type": "execute_result"
    }
   ],
   "source": [
    "# this an expression showing how to solve an arithmetic solution it calculates the expression in the brackets first then adds the integer that is outside the brackets\n",
    "(3*4)+5"
   ]
  },
  {
   "cell_type": "code",
   "execution_count": 3,
   "id": "5b995488-505d-4316-bfcf-a34a744e9660",
   "metadata": {
    "tags": []
   },
   "outputs": [
    {
     "name": "stdout",
     "output_type": "stream",
     "text": [
      "3.3333333333333335\n"
     ]
    }
   ],
   "source": [
    "y= 60\n",
    "value=200\n",
    "results=value/y\n",
    "print(results)\n"
   ]
  },
  {
   "cell_type": "markdown",
   "id": "56cb5f62-b2d7-4d61-80c3-10c0328cc250",
   "metadata": {},
   "source": [
    "## Author\n",
    "DANIEL N\n"
   ]
  },
  {
   "cell_type": "code",
   "execution_count": null,
   "id": "1c270940-b1ef-4c88-a968-a97e4ddeb84b",
   "metadata": {},
   "outputs": [],
   "source": []
  }
 ],
 "metadata": {
  "kernelspec": {
   "display_name": "Python",
   "language": "python",
   "name": "conda-env-python-py"
  },
  "language_info": {
   "codemirror_mode": {
    "name": "ipython",
    "version": 3
   },
   "file_extension": ".py",
   "mimetype": "text/x-python",
   "name": "python",
   "nbconvert_exporter": "python",
   "pygments_lexer": "ipython3",
   "version": "3.7.12"
  }
 },
 "nbformat": 4,
 "nbformat_minor": 5
}
